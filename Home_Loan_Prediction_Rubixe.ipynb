{
  "nbformat": 4,
  "nbformat_minor": 0,
  "metadata": {
    "colab": {
      "name": "Home Loan Prediction_Rubixe.ipynb",
      "provenance": [],
      "collapsed_sections": [],
      "toc_visible": true,
      "mount_file_id": "1oDqPjey0KV930_ZlKkH0LiH9Wg65IAUF",
      "authorship_tag": "ABX9TyP0Mb4qADzoBd0U/fQHgYhf",
      "include_colab_link": true
    },
    "kernelspec": {
      "name": "python3",
      "display_name": "Python 3"
    },
    "accelerator": "GPU"
  },
  "cells": [
    {
      "cell_type": "markdown",
      "metadata": {
        "id": "view-in-github",
        "colab_type": "text"
      },
      "source": [
        "<a href=\"https://colab.research.google.com/github/bijaykahar/House-Price-Predection/blob/master/Home_Loan_Prediction_Rubixe.ipynb\" target=\"_parent\"><img src=\"https://colab.research.google.com/assets/colab-badge.svg\" alt=\"Open In Colab\"/></a>"
      ]
    },
    {
      "cell_type": "code",
      "metadata": {
        "id": "WfuobysWh6Pb",
        "colab_type": "code",
        "colab": {
          "base_uri": "https://localhost:8080/",
          "height": 54
        },
        "outputId": "76312517-f0d9-4a31-ff29-677804f80c5c"
      },
      "source": [
        "from google.colab import drive\n",
        "drive.mount('/content/drive')"
      ],
      "execution_count": 1,
      "outputs": [
        {
          "output_type": "stream",
          "text": [
            "Drive already mounted at /content/drive; to attempt to forcibly remount, call drive.mount(\"/content/drive\", force_remount=True).\n"
          ],
          "name": "stdout"
        }
      ]
    },
    {
      "cell_type": "code",
      "metadata": {
        "id": "mQjQGrgWB4oQ",
        "colab_type": "code",
        "colab": {
          "base_uri": "https://localhost:8080/",
          "height": 71
        },
        "outputId": "be18cb8c-8717-4b7a-d9a4-2bf6b9591857"
      },
      "source": [
        "import pandas as pd \n",
        "import numpy as np\n",
        "import seaborn as sns\n",
        "import matplotlib.pyplot as plt\n",
        "from sklearn.ensemble import RandomForestClassifier"
      ],
      "execution_count": 2,
      "outputs": [
        {
          "output_type": "stream",
          "text": [
            "/usr/local/lib/python3.6/dist-packages/statsmodels/tools/_testing.py:19: FutureWarning: pandas.util.testing is deprecated. Use the functions in the public API at pandas.testing instead.\n",
            "  import pandas.util.testing as tm\n"
          ],
          "name": "stderr"
        }
      ]
    },
    {
      "cell_type": "code",
      "metadata": {
        "id": "npUKHaOjkNYb",
        "colab_type": "code",
        "colab": {
          "base_uri": "https://localhost:8080/",
          "height": 34
        },
        "outputId": "279ebf7a-32b5-4f59-f5c7-6eb2b5a83e13"
      },
      "source": [
        "dataset = pd.read_csv('/content/drive/My Drive/Internship_DataMites/Resampled Data /application_train.csv')\n",
        "dataset.shape"
      ],
      "execution_count": 3,
      "outputs": [
        {
          "output_type": "execute_result",
          "data": {
            "text/plain": [
              "(307511, 122)"
            ]
          },
          "metadata": {
            "tags": []
          },
          "execution_count": 3
        }
      ]
    },
    {
      "cell_type": "code",
      "metadata": {
        "id": "xzWJjfyEmLpw",
        "colab_type": "code",
        "colab": {
          "base_uri": "https://localhost:8080/",
          "height": 187
        },
        "outputId": "4ac1a27c-6c05-47cc-c567-743cf9462582"
      },
      "source": [
        "dataset.columns"
      ],
      "execution_count": 4,
      "outputs": [
        {
          "output_type": "execute_result",
          "data": {
            "text/plain": [
              "Index(['SK_ID_CURR', 'TARGET', 'NAME_CONTRACT_TYPE', 'CODE_GENDER',\n",
              "       'FLAG_OWN_CAR', 'FLAG_OWN_REALTY', 'CNT_CHILDREN', 'AMT_INCOME_TOTAL',\n",
              "       'AMT_CREDIT', 'AMT_ANNUITY',\n",
              "       ...\n",
              "       'FLAG_DOCUMENT_18', 'FLAG_DOCUMENT_19', 'FLAG_DOCUMENT_20',\n",
              "       'FLAG_DOCUMENT_21', 'AMT_REQ_CREDIT_BUREAU_HOUR',\n",
              "       'AMT_REQ_CREDIT_BUREAU_DAY', 'AMT_REQ_CREDIT_BUREAU_WEEK',\n",
              "       'AMT_REQ_CREDIT_BUREAU_MON', 'AMT_REQ_CREDIT_BUREAU_QRT',\n",
              "       'AMT_REQ_CREDIT_BUREAU_YEAR'],\n",
              "      dtype='object', length=122)"
            ]
          },
          "metadata": {
            "tags": []
          },
          "execution_count": 4
        }
      ]
    },
    {
      "cell_type": "code",
      "metadata": {
        "id": "GQr_r3w8Ft9G",
        "colab_type": "code",
        "colab": {
          "base_uri": "https://localhost:8080/",
          "height": 85
        },
        "outputId": "b06645c6-cb35-4354-9fd0-668a70288aec"
      },
      "source": [
        "dataset.dtypes.value_counts()"
      ],
      "execution_count": 5,
      "outputs": [
        {
          "output_type": "execute_result",
          "data": {
            "text/plain": [
              "float64    65\n",
              "int64      41\n",
              "object     16\n",
              "dtype: int64"
            ]
          },
          "metadata": {
            "tags": []
          },
          "execution_count": 5
        }
      ]
    },
    {
      "cell_type": "code",
      "metadata": {
        "id": "CGaStgskF0mG",
        "colab_type": "code",
        "colab": {
          "base_uri": "https://localhost:8080/",
          "height": 306
        },
        "outputId": "025cda9c-0176-4783-fe98-1ae09b04d763"
      },
      "source": [
        "dataset.select_dtypes('object').apply(pd.Series.nunique, axis = 0)"
      ],
      "execution_count": 6,
      "outputs": [
        {
          "output_type": "execute_result",
          "data": {
            "text/plain": [
              "NAME_CONTRACT_TYPE             2\n",
              "CODE_GENDER                    3\n",
              "FLAG_OWN_CAR                   2\n",
              "FLAG_OWN_REALTY                2\n",
              "NAME_TYPE_SUITE                7\n",
              "NAME_INCOME_TYPE               8\n",
              "NAME_EDUCATION_TYPE            5\n",
              "NAME_FAMILY_STATUS             6\n",
              "NAME_HOUSING_TYPE              6\n",
              "OCCUPATION_TYPE               18\n",
              "WEEKDAY_APPR_PROCESS_START     7\n",
              "ORGANIZATION_TYPE             58\n",
              "FONDKAPREMONT_MODE             4\n",
              "HOUSETYPE_MODE                 3\n",
              "WALLSMATERIAL_MODE             7\n",
              "EMERGENCYSTATE_MODE            2\n",
              "dtype: int64"
            ]
          },
          "metadata": {
            "tags": []
          },
          "execution_count": 6
        }
      ]
    },
    {
      "cell_type": "code",
      "metadata": {
        "id": "vPKBgCQ-GUoV",
        "colab_type": "code",
        "colab": {}
      },
      "source": [
        "from sklearn.preprocessing import LabelEncoder\n",
        "labelencoder=  LabelEncoder()"
      ],
      "execution_count": 7,
      "outputs": []
    },
    {
      "cell_type": "code",
      "metadata": {
        "id": "gv3GuTdoGXAz",
        "colab_type": "code",
        "colab": {}
      },
      "source": [
        "cat_features=[x for x in dataset.columns if dataset[x].dtype==\"object\"]\n",
        "\n",
        "for col in cat_features:\n",
        "    if col in dataset.columns:\n",
        "        i = dataset.columns.get_loc(col)\n",
        "        dataset.iloc[:,i] = dataset.apply(lambda i:labelencoder.fit_transform(i.astype(str)), axis=0, result_type='expand')"
      ],
      "execution_count": 8,
      "outputs": []
    },
    {
      "cell_type": "code",
      "metadata": {
        "id": "0TlQeu0vDVBe",
        "colab_type": "code",
        "colab": {
          "base_uri": "https://localhost:8080/",
          "height": 34
        },
        "outputId": "288bfc28-d23d-4422-c826-af4fb13437e6"
      },
      "source": [
        "#This Block will Tell what Number of Columns are having what percentage of Null Values\n",
        "count=0\n",
        "def null_val_treatment(df):\n",
        "  count=0\n",
        "  for col in df.columns:\n",
        "    if ( dataset[col].isnull().sum())*100 / len(df) > 0.30:\n",
        "      count=count+1\n",
        "      del dataset[col]\n",
        "  print(count)\n",
        "      \n",
        "\n",
        "\n",
        "null_val_treatment(dataset)\n",
        "#There are 122 column but after Deleting the unwanted Columns\n"
      ],
      "execution_count": 9,
      "outputs": [
        {
          "output_type": "stream",
          "text": [
            "56\n"
          ],
          "name": "stdout"
        }
      ]
    },
    {
      "cell_type": "code",
      "metadata": {
        "id": "OVyQov1UdhuB",
        "colab_type": "code",
        "colab": {
          "base_uri": "https://localhost:8080/",
          "height": 34
        },
        "outputId": "2df5554e-b266-4344-b215-aeda00ee60e6"
      },
      "source": [
        "print(len(dataset.columns))\n",
        "#after Removing the Columns Which are having Null Value More than 30% these are the columns remaining "
      ],
      "execution_count": 10,
      "outputs": [
        {
          "output_type": "stream",
          "text": [
            "66\n"
          ],
          "name": "stdout"
        }
      ]
    },
    {
      "cell_type": "code",
      "metadata": {
        "id": "_mn5sgpVHkLY",
        "colab_type": "code",
        "colab": {
          "base_uri": "https://localhost:8080/",
          "height": 204
        },
        "outputId": "63ad60eb-1e9b-47e7-8939-aec263496e79"
      },
      "source": [
        "dataset['ORGANIZATION_TYPE'].tail(10)"
      ],
      "execution_count": 11,
      "outputs": [
        {
          "output_type": "execute_result",
          "data": {
            "text/plain": [
              "307501    14\n",
              "307502    39\n",
              "307503     2\n",
              "307504    42\n",
              "307505    57\n",
              "307506    43\n",
              "307507    57\n",
              "307508    39\n",
              "307509     3\n",
              "307510     5\n",
              "Name: ORGANIZATION_TYPE, dtype: int64"
            ]
          },
          "metadata": {
            "tags": []
          },
          "execution_count": 11
        }
      ]
    },
    {
      "cell_type": "code",
      "metadata": {
        "id": "sEKF5qpvIn-n",
        "colab_type": "code",
        "colab": {
          "base_uri": "https://localhost:8080/",
          "height": 782
        },
        "outputId": "438cff15-65ed-4de2-89bf-dcb4704c8267"
      },
      "source": [
        "correlations = dataset.corr()['TARGET'].sort_values() \n",
        "\n",
        "# Display correlations\n",
        "print('Most Positive Correlations:\\n', correlations.tail(25)*100)\n",
        "print('\\nMost Negative Correlations:\\n', correlations.head(15)*100)\n",
        "\n",
        "# Not Deleting Any correlations as all are some where under -18% to +18% correlelated"
      ],
      "execution_count": 12,
      "outputs": [
        {
          "output_type": "stream",
          "text": [
            "Most Positive Correlations:\n",
            " REG_REGION_NOT_LIVE_REGION       0.557594\n",
            "REG_REGION_NOT_WORK_REGION       0.694191\n",
            "NAME_TYPE_SUITE                  0.807378\n",
            "CNT_FAM_MEMBERS                  0.930778\n",
            "CNT_CHILDREN                     1.918713\n",
            "FLAG_WORK_PHONE                  2.852432\n",
            "LIVE_CITY_NOT_WORK_CITY          3.251834\n",
            "NAME_HOUSING_TYPE                3.448860\n",
            "WALLSMATERIAL_MODE               3.707636\n",
            "HOUSETYPE_MODE                   3.908223\n",
            "EMERGENCYSTATE_MODE              4.195483\n",
            "DAYS_REGISTRATION                4.197486\n",
            "FLAG_DOCUMENT_3                  4.434635\n",
            "REG_CITY_NOT_LIVE_CITY           4.439537\n",
            "FLAG_EMP_PHONE                   4.598222\n",
            "NAME_INCOME_TYPE                 4.682943\n",
            "REG_CITY_NOT_WORK_CITY           5.099446\n",
            "DAYS_ID_PUBLISH                  5.145717\n",
            "CODE_GENDER                      5.469226\n",
            "NAME_EDUCATION_TYPE              5.469860\n",
            "DAYS_LAST_PHONE_CHANGE           5.521848\n",
            "REGION_RATING_CLIENT             5.889901\n",
            "REGION_RATING_CLIENT_W_CITY      6.089267\n",
            "DAYS_BIRTH                       7.823931\n",
            "TARGET                         100.000000\n",
            "Name: TARGET, dtype: float64\n",
            "\n",
            "Most Negative Correlations:\n",
            " EXT_SOURCE_2                 -16.047167\n",
            "DAYS_EMPLOYED                 -4.493166\n",
            "AMT_GOODS_PRICE               -3.964528\n",
            "REGION_POPULATION_RELATIVE    -3.722715\n",
            "NAME_CONTRACT_TYPE            -3.089591\n",
            "ORGANIZATION_TYPE             -3.076537\n",
            "AMT_CREDIT                    -3.036929\n",
            "FONDKAPREMONT_MODE            -2.896028\n",
            "FLAG_DOCUMENT_6               -2.860189\n",
            "HOUR_APPR_PROCESS_START       -2.416583\n",
            "FLAG_PHONE                    -2.380627\n",
            "FLAG_OWN_CAR                  -2.185094\n",
            "OCCUPATION_TYPE               -1.951020\n",
            "AMT_ANNUITY                   -1.281656\n",
            "FLAG_DOCUMENT_16              -1.161467\n",
            "Name: TARGET, dtype: float64\n"
          ],
          "name": "stdout"
        }
      ]
    },
    {
      "cell_type": "code",
      "metadata": {
        "id": "EEBZzKSFgtPs",
        "colab_type": "code",
        "colab": {
          "base_uri": "https://localhost:8080/",
          "height": 34
        },
        "outputId": "4971694c-a133-4e7c-9352-d559b06bb124"
      },
      "source": [
        "correlations['FLAG_PHONE']"
      ],
      "execution_count": 13,
      "outputs": [
        {
          "output_type": "execute_result",
          "data": {
            "text/plain": [
              "-0.023806272330580556"
            ]
          },
          "metadata": {
            "tags": []
          },
          "execution_count": 13
        }
      ]
    },
    {
      "cell_type": "code",
      "metadata": {
        "id": "TeWjp8H5MIsN",
        "colab_type": "code",
        "colab": {
          "base_uri": "https://localhost:8080/",
          "height": 34
        },
        "outputId": "42865d66-563b-447a-88fb-7f89cdbee404"
      },
      "source": [
        "dataset['TARGET'].unique()"
      ],
      "execution_count": 14,
      "outputs": [
        {
          "output_type": "execute_result",
          "data": {
            "text/plain": [
              "array([1, 0])"
            ]
          },
          "metadata": {
            "tags": []
          },
          "execution_count": 14
        }
      ]
    },
    {
      "cell_type": "code",
      "metadata": {
        "id": "p3cNVWGwtk8U",
        "colab_type": "code",
        "colab": {
          "base_uri": "https://localhost:8080/",
          "height": 440
        },
        "outputId": "034ab7bd-aa5d-480c-ef7e-6ed271db7b5c"
      },
      "source": [
        "import seaborn as sns\n",
        "plt.figure(figsize=(20,10))\n",
        "sns.set(style=\"whitegrid\")\n",
        "ax = sns.boxplot(data=dataset.iloc[:,:20],orient='h')\n",
        "#Change the iloc params to see the outliars in the dataSet \n",
        "#train_data.AMT_GOODS_PRICE,train_data.AMT_CREDIT,train_data.AMT_INCOME_TOTAL  have outliars"
      ],
      "execution_count": 15,
      "outputs": [
        {
          "output_type": "display_data",
          "data": {
            "image/png": "[encoded data removed]",
            "text/plain": [
              "<Figure size 1440x720 with 1 Axes>"
            ]
          },
          "metadata": {
            "tags": [],
            "needs_background": "light"
          }
        }
      ]
    },
    {
      "cell_type": "code",
      "metadata": {
        "id": "V7tD5SHFAfGd",
        "colab_type": "code",
        "colab": {
          "base_uri": "https://localhost:8080/",
          "height": 102
        },
        "outputId": "1d9ab7e5-721d-46a6-888c-400e9f654530"
      },
      "source": [
        "Q1 = dataset.quantile(0.25)\n",
        "Q3 = dataset.quantile(0.75)\n",
        "IQR = Q3 - Q1\n",
        "l_bound =Q1 - 1.5*IQR\n",
        "u_bound =Q1 + 1.5*IQR \n",
        "\n",
        "#Checking Purpose whether the vlaues are Correct  or Not\n",
        "print(Q1['AMT_CREDIT']) \n",
        "print(Q3['AMT_CREDIT']) \n",
        "print(IQR['AMT_CREDIT'])  \n",
        "print(l_bound['AMT_CREDIT']) \n",
        "print(u_bound['AMT_CREDIT'] )"
      ],
      "execution_count": 16,
      "outputs": [
        {
          "output_type": "stream",
          "text": [
            "270000.0\n",
            "808650.0\n",
            "538650.0\n",
            "-537975.0\n",
            "1077975.0\n"
          ],
          "name": "stdout"
        }
      ]
    },
    {
      "cell_type": "code",
      "metadata": {
        "id": "mYCNHdR9H8qT",
        "colab_type": "code",
        "colab": {}
      },
      "source": [
        "dataset[dataset.AMT_CREDIT > u_bound['AMT_CREDIT']] = u_bound['AMT_CREDIT'] \n",
        "dataset[dataset['AMT_INCOME_TOTAL'] > u_bound['AMT_INCOME_TOTAL']] = u_bound['AMT_INCOME_TOTAL']\n",
        "dataset[dataset.DAYS_LAST_PHONE_CHANGE < l_bound['DAYS_LAST_PHONE_CHANGE']]= l_bound['DAYS_LAST_PHONE_CHANGE']\n",
        "dataset[dataset.AMT_GOODS_PRICE > u_bound['AMT_GOODS_PRICE']] = u_bound['AMT_GOODS_PRICE']\n",
        "\n",
        " #Capping the Outlairs to the upper/lower digit for all the dimensions  "
      ],
      "execution_count": 17,
      "outputs": []
    },
    {
      "cell_type": "markdown",
      "metadata": {
        "id": "TPs9YvLxOjvQ",
        "colab_type": "text"
      },
      "source": [
        "**The Data Set is Outlairs Free and variables whose Percent of Null Values are more than 30% have been removed **"
      ]
    },
    {
      "cell_type": "code",
      "metadata": {
        "id": "I-QtaW9e_4X6",
        "colab_type": "code",
        "colab": {
          "base_uri": "https://localhost:8080/",
          "height": 298
        },
        "outputId": "91fde578-7018-47cc-cd4e-0bbb7f79d30a"
      },
      "source": [
        "fig, ax = plt.subplots(figsize=(4,4))\n",
        "ax.scatter(x=dataset['AMT_CREDIT'], y=dataset['TARGET'])"
      ],
      "execution_count": 18,
      "outputs": [
        {
          "output_type": "execute_result",
          "data": {
            "text/plain": [
              "<matplotlib.collections.PathCollection at 0x7f41236a31d0>"
            ]
          },
          "metadata": {
            "tags": []
          },
          "execution_count": 18
        },
        {
          "output_type": "display_data",
          "data": {
            "image/png": "[encoded data removed]",
            "text/plain": [
              "<Figure size 288x288 with 1 Axes>"
            ]
          },
          "metadata": {
            "tags": []
          }
        }
      ]
    },
    {
      "cell_type": "code",
      "metadata": {
        "id": "6MglKONsRGbZ",
        "colab_type": "code",
        "colab": {}
      },
      "source": [
        "dataset.DAYS_BIRTH *= -1 \n",
        "dataset.DAYS_EMPLOYED *= -1 \n",
        "dataset.DAYS_REGISTRATION *= -1 \n",
        "dataset.DAYS_ID_PUBLISH *= -1 \n",
        "dataset.DAYS_LAST_PHONE_CHANGE *= -1 \n",
        "\n",
        "#To make it positive data as all the days value were in Negative"
      ],
      "execution_count": 19,
      "outputs": []
    },
    {
      "cell_type": "code",
      "metadata": {
        "id": "0CT_Wij-MGeK",
        "colab_type": "code",
        "colab": {
          "base_uri": "https://localhost:8080/",
          "height": 34
        },
        "outputId": "dfdd4b24-9311-4ef2-ac7c-9498ec51fa55"
      },
      "source": [
        "len(dataset.duplicated())"
      ],
      "execution_count": 20,
      "outputs": [
        {
          "output_type": "execute_result",
          "data": {
            "text/plain": [
              "307511"
            ]
          },
          "metadata": {
            "tags": []
          },
          "execution_count": 20
        }
      ]
    },
    {
      "cell_type": "code",
      "metadata": {
        "id": "U7dGCJuhPw6m",
        "colab_type": "code",
        "colab": {
          "base_uri": "https://localhost:8080/",
          "height": 224
        },
        "outputId": "9fe078fd-e102-4f6a-e175-a3a1cae03f4d"
      },
      "source": [
        "dataset.head()"
      ],
      "execution_count": 21,
      "outputs": [
        {
          "output_type": "execute_result",
          "data": {
            "text/html": [
              "<div>\n",
              "<style scoped>\n",
              "    .dataframe tbody tr th:only-of-type {\n",
              "        vertical-align: middle;\n",
              "    }\n",
              "\n",
              "    .dataframe tbody tr th {\n",
              "        vertical-align: top;\n",
              "    }\n",
              "\n",
              "    .dataframe thead th {\n",
              "        text-align: right;\n",
              "    }\n",
              "</style>\n",
              "<table border=\"1\" class=\"dataframe\">\n",
              "  <thead>\n",
              "    <tr style=\"text-align: right;\">\n",
              "      <th></th>\n",
              "      <th>SK_ID_CURR</th>\n",
              "      <th>TARGET</th>\n",
              "      <th>NAME_CONTRACT_TYPE</th>\n",
              "      <th>CODE_GENDER</th>\n",
              "      <th>FLAG_OWN_CAR</th>\n",
              "      <th>FLAG_OWN_REALTY</th>\n",
              "      <th>CNT_CHILDREN</th>\n",
              "      <th>AMT_INCOME_TOTAL</th>\n",
              "      <th>AMT_CREDIT</th>\n",
              "      <th>AMT_ANNUITY</th>\n",
              "      <th>AMT_GOODS_PRICE</th>\n",
              "      <th>NAME_TYPE_SUITE</th>\n",
              "      <th>NAME_INCOME_TYPE</th>\n",
              "      <th>NAME_EDUCATION_TYPE</th>\n",
              "      <th>NAME_FAMILY_STATUS</th>\n",
              "      <th>NAME_HOUSING_TYPE</th>\n",
              "      <th>REGION_POPULATION_RELATIVE</th>\n",
              "      <th>DAYS_BIRTH</th>\n",
              "      <th>DAYS_EMPLOYED</th>\n",
              "      <th>DAYS_REGISTRATION</th>\n",
              "      <th>DAYS_ID_PUBLISH</th>\n",
              "      <th>FLAG_MOBIL</th>\n",
              "      <th>FLAG_EMP_PHONE</th>\n",
              "      <th>FLAG_WORK_PHONE</th>\n",
              "      <th>FLAG_CONT_MOBILE</th>\n",
              "      <th>FLAG_PHONE</th>\n",
              "      <th>FLAG_EMAIL</th>\n",
              "      <th>OCCUPATION_TYPE</th>\n",
              "      <th>CNT_FAM_MEMBERS</th>\n",
              "      <th>REGION_RATING_CLIENT</th>\n",
              "      <th>REGION_RATING_CLIENT_W_CITY</th>\n",
              "      <th>WEEKDAY_APPR_PROCESS_START</th>\n",
              "      <th>HOUR_APPR_PROCESS_START</th>\n",
              "      <th>REG_REGION_NOT_LIVE_REGION</th>\n",
              "      <th>REG_REGION_NOT_WORK_REGION</th>\n",
              "      <th>LIVE_REGION_NOT_WORK_REGION</th>\n",
              "      <th>REG_CITY_NOT_LIVE_CITY</th>\n",
              "      <th>REG_CITY_NOT_WORK_CITY</th>\n",
              "      <th>LIVE_CITY_NOT_WORK_CITY</th>\n",
              "      <th>ORGANIZATION_TYPE</th>\n",
              "      <th>EXT_SOURCE_2</th>\n",
              "      <th>FONDKAPREMONT_MODE</th>\n",
              "      <th>HOUSETYPE_MODE</th>\n",
              "      <th>WALLSMATERIAL_MODE</th>\n",
              "      <th>EMERGENCYSTATE_MODE</th>\n",
              "      <th>DAYS_LAST_PHONE_CHANGE</th>\n",
              "      <th>FLAG_DOCUMENT_2</th>\n",
              "      <th>FLAG_DOCUMENT_3</th>\n",
              "      <th>FLAG_DOCUMENT_4</th>\n",
              "      <th>FLAG_DOCUMENT_5</th>\n",
              "      <th>FLAG_DOCUMENT_6</th>\n",
              "      <th>FLAG_DOCUMENT_7</th>\n",
              "      <th>FLAG_DOCUMENT_8</th>\n",
              "      <th>FLAG_DOCUMENT_9</th>\n",
              "      <th>FLAG_DOCUMENT_10</th>\n",
              "      <th>FLAG_DOCUMENT_11</th>\n",
              "      <th>FLAG_DOCUMENT_12</th>\n",
              "      <th>FLAG_DOCUMENT_13</th>\n",
              "      <th>FLAG_DOCUMENT_14</th>\n",
              "      <th>FLAG_DOCUMENT_15</th>\n",
              "      <th>FLAG_DOCUMENT_16</th>\n",
              "      <th>FLAG_DOCUMENT_17</th>\n",
              "      <th>FLAG_DOCUMENT_18</th>\n",
              "      <th>FLAG_DOCUMENT_19</th>\n",
              "      <th>FLAG_DOCUMENT_20</th>\n",
              "      <th>FLAG_DOCUMENT_21</th>\n",
              "    </tr>\n",
              "  </thead>\n",
              "  <tbody>\n",
              "    <tr>\n",
              "      <th>0</th>\n",
              "      <td>100002.0</td>\n",
              "      <td>1.0</td>\n",
              "      <td>0.0</td>\n",
              "      <td>1.0</td>\n",
              "      <td>0.0</td>\n",
              "      <td>1.0</td>\n",
              "      <td>0.0</td>\n",
              "      <td>202500.0</td>\n",
              "      <td>406597.5</td>\n",
              "      <td>24700.5</td>\n",
              "      <td>351000.0</td>\n",
              "      <td>6.0</td>\n",
              "      <td>7.0</td>\n",
              "      <td>4.0</td>\n",
              "      <td>3.0</td>\n",
              "      <td>1.0</td>\n",
              "      <td>0.018801</td>\n",
              "      <td>9461.0</td>\n",
              "      <td>637.0</td>\n",
              "      <td>3648.0</td>\n",
              "      <td>2120.0</td>\n",
              "      <td>1.0</td>\n",
              "      <td>1.0</td>\n",
              "      <td>0.0</td>\n",
              "      <td>1.0</td>\n",
              "      <td>1.0</td>\n",
              "      <td>0.0</td>\n",
              "      <td>8.0</td>\n",
              "      <td>1.0</td>\n",
              "      <td>2.0</td>\n",
              "      <td>2.0</td>\n",
              "      <td>6.0</td>\n",
              "      <td>10.0</td>\n",
              "      <td>0.0</td>\n",
              "      <td>0.0</td>\n",
              "      <td>0.0</td>\n",
              "      <td>0.0</td>\n",
              "      <td>0.0</td>\n",
              "      <td>0.0</td>\n",
              "      <td>5.0</td>\n",
              "      <td>0.262949</td>\n",
              "      <td>3.0</td>\n",
              "      <td>0.0</td>\n",
              "      <td>5.0</td>\n",
              "      <td>0.0</td>\n",
              "      <td>1134.0</td>\n",
              "      <td>0.0</td>\n",
              "      <td>1.0</td>\n",
              "      <td>0.0</td>\n",
              "      <td>0.0</td>\n",
              "      <td>0.0</td>\n",
              "      <td>0.0</td>\n",
              "      <td>0.0</td>\n",
              "      <td>0.0</td>\n",
              "      <td>0.0</td>\n",
              "      <td>0.0</td>\n",
              "      <td>0.0</td>\n",
              "      <td>0.0</td>\n",
              "      <td>0.0</td>\n",
              "      <td>0.0</td>\n",
              "      <td>0.0</td>\n",
              "      <td>0.0</td>\n",
              "      <td>0.0</td>\n",
              "      <td>0.0</td>\n",
              "      <td>0.0</td>\n",
              "      <td>0.0</td>\n",
              "    </tr>\n",
              "    <tr>\n",
              "      <th>1</th>\n",
              "      <td>247500.0</td>\n",
              "      <td>247500.0</td>\n",
              "      <td>247500.0</td>\n",
              "      <td>247500.0</td>\n",
              "      <td>247500.0</td>\n",
              "      <td>247500.0</td>\n",
              "      <td>247500.0</td>\n",
              "      <td>247500.0</td>\n",
              "      <td>247500.0</td>\n",
              "      <td>247500.0</td>\n",
              "      <td>247500.0</td>\n",
              "      <td>247500.0</td>\n",
              "      <td>247500.0</td>\n",
              "      <td>247500.0</td>\n",
              "      <td>247500.0</td>\n",
              "      <td>247500.0</td>\n",
              "      <td>247500.000000</td>\n",
              "      <td>-247500.0</td>\n",
              "      <td>-247500.0</td>\n",
              "      <td>-247500.0</td>\n",
              "      <td>-247500.0</td>\n",
              "      <td>247500.0</td>\n",
              "      <td>247500.0</td>\n",
              "      <td>247500.0</td>\n",
              "      <td>247500.0</td>\n",
              "      <td>247500.0</td>\n",
              "      <td>247500.0</td>\n",
              "      <td>247500.0</td>\n",
              "      <td>247500.0</td>\n",
              "      <td>247500.0</td>\n",
              "      <td>247500.0</td>\n",
              "      <td>247500.0</td>\n",
              "      <td>247500.0</td>\n",
              "      <td>247500.0</td>\n",
              "      <td>247500.0</td>\n",
              "      <td>247500.0</td>\n",
              "      <td>247500.0</td>\n",
              "      <td>247500.0</td>\n",
              "      <td>247500.0</td>\n",
              "      <td>247500.0</td>\n",
              "      <td>247500.000000</td>\n",
              "      <td>247500.0</td>\n",
              "      <td>247500.0</td>\n",
              "      <td>247500.0</td>\n",
              "      <td>247500.0</td>\n",
              "      <td>-247500.0</td>\n",
              "      <td>247500.0</td>\n",
              "      <td>247500.0</td>\n",
              "      <td>247500.0</td>\n",
              "      <td>247500.0</td>\n",
              "      <td>247500.0</td>\n",
              "      <td>247500.0</td>\n",
              "      <td>247500.0</td>\n",
              "      <td>247500.0</td>\n",
              "      <td>247500.0</td>\n",
              "      <td>247500.0</td>\n",
              "      <td>247500.0</td>\n",
              "      <td>247500.0</td>\n",
              "      <td>247500.0</td>\n",
              "      <td>247500.0</td>\n",
              "      <td>247500.0</td>\n",
              "      <td>247500.0</td>\n",
              "      <td>247500.0</td>\n",
              "      <td>247500.0</td>\n",
              "      <td>247500.0</td>\n",
              "      <td>247500.0</td>\n",
              "    </tr>\n",
              "    <tr>\n",
              "      <th>2</th>\n",
              "      <td>100004.0</td>\n",
              "      <td>0.0</td>\n",
              "      <td>1.0</td>\n",
              "      <td>1.0</td>\n",
              "      <td>1.0</td>\n",
              "      <td>1.0</td>\n",
              "      <td>0.0</td>\n",
              "      <td>67500.0</td>\n",
              "      <td>135000.0</td>\n",
              "      <td>6750.0</td>\n",
              "      <td>135000.0</td>\n",
              "      <td>6.0</td>\n",
              "      <td>7.0</td>\n",
              "      <td>4.0</td>\n",
              "      <td>3.0</td>\n",
              "      <td>1.0</td>\n",
              "      <td>0.010032</td>\n",
              "      <td>19046.0</td>\n",
              "      <td>225.0</td>\n",
              "      <td>4260.0</td>\n",
              "      <td>2531.0</td>\n",
              "      <td>1.0</td>\n",
              "      <td>1.0</td>\n",
              "      <td>1.0</td>\n",
              "      <td>1.0</td>\n",
              "      <td>1.0</td>\n",
              "      <td>0.0</td>\n",
              "      <td>8.0</td>\n",
              "      <td>1.0</td>\n",
              "      <td>2.0</td>\n",
              "      <td>2.0</td>\n",
              "      <td>1.0</td>\n",
              "      <td>9.0</td>\n",
              "      <td>0.0</td>\n",
              "      <td>0.0</td>\n",
              "      <td>0.0</td>\n",
              "      <td>0.0</td>\n",
              "      <td>0.0</td>\n",
              "      <td>0.0</td>\n",
              "      <td>11.0</td>\n",
              "      <td>0.555912</td>\n",
              "      <td>0.0</td>\n",
              "      <td>1.0</td>\n",
              "      <td>7.0</td>\n",
              "      <td>2.0</td>\n",
              "      <td>815.0</td>\n",
              "      <td>0.0</td>\n",
              "      <td>0.0</td>\n",
              "      <td>0.0</td>\n",
              "      <td>0.0</td>\n",
              "      <td>0.0</td>\n",
              "      <td>0.0</td>\n",
              "      <td>0.0</td>\n",
              "      <td>0.0</td>\n",
              "      <td>0.0</td>\n",
              "      <td>0.0</td>\n",
              "      <td>0.0</td>\n",
              "      <td>0.0</td>\n",
              "      <td>0.0</td>\n",
              "      <td>0.0</td>\n",
              "      <td>0.0</td>\n",
              "      <td>0.0</td>\n",
              "      <td>0.0</td>\n",
              "      <td>0.0</td>\n",
              "      <td>0.0</td>\n",
              "      <td>0.0</td>\n",
              "    </tr>\n",
              "    <tr>\n",
              "      <th>3</th>\n",
              "      <td>100006.0</td>\n",
              "      <td>0.0</td>\n",
              "      <td>0.0</td>\n",
              "      <td>0.0</td>\n",
              "      <td>0.0</td>\n",
              "      <td>1.0</td>\n",
              "      <td>0.0</td>\n",
              "      <td>135000.0</td>\n",
              "      <td>312682.5</td>\n",
              "      <td>29686.5</td>\n",
              "      <td>297000.0</td>\n",
              "      <td>6.0</td>\n",
              "      <td>7.0</td>\n",
              "      <td>4.0</td>\n",
              "      <td>0.0</td>\n",
              "      <td>1.0</td>\n",
              "      <td>0.008019</td>\n",
              "      <td>19005.0</td>\n",
              "      <td>3039.0</td>\n",
              "      <td>9833.0</td>\n",
              "      <td>2437.0</td>\n",
              "      <td>1.0</td>\n",
              "      <td>1.0</td>\n",
              "      <td>0.0</td>\n",
              "      <td>1.0</td>\n",
              "      <td>0.0</td>\n",
              "      <td>0.0</td>\n",
              "      <td>8.0</td>\n",
              "      <td>2.0</td>\n",
              "      <td>2.0</td>\n",
              "      <td>2.0</td>\n",
              "      <td>6.0</td>\n",
              "      <td>17.0</td>\n",
              "      <td>0.0</td>\n",
              "      <td>0.0</td>\n",
              "      <td>0.0</td>\n",
              "      <td>0.0</td>\n",
              "      <td>0.0</td>\n",
              "      <td>0.0</td>\n",
              "      <td>5.0</td>\n",
              "      <td>0.650442</td>\n",
              "      <td>0.0</td>\n",
              "      <td>1.0</td>\n",
              "      <td>7.0</td>\n",
              "      <td>2.0</td>\n",
              "      <td>617.0</td>\n",
              "      <td>0.0</td>\n",
              "      <td>1.0</td>\n",
              "      <td>0.0</td>\n",
              "      <td>0.0</td>\n",
              "      <td>0.0</td>\n",
              "      <td>0.0</td>\n",
              "      <td>0.0</td>\n",
              "      <td>0.0</td>\n",
              "      <td>0.0</td>\n",
              "      <td>0.0</td>\n",
              "      <td>0.0</td>\n",
              "      <td>0.0</td>\n",
              "      <td>0.0</td>\n",
              "      <td>0.0</td>\n",
              "      <td>0.0</td>\n",
              "      <td>0.0</td>\n",
              "      <td>0.0</td>\n",
              "      <td>0.0</td>\n",
              "      <td>0.0</td>\n",
              "      <td>0.0</td>\n",
              "    </tr>\n",
              "    <tr>\n",
              "      <th>4</th>\n",
              "      <td>100007.0</td>\n",
              "      <td>0.0</td>\n",
              "      <td>0.0</td>\n",
              "      <td>1.0</td>\n",
              "      <td>0.0</td>\n",
              "      <td>1.0</td>\n",
              "      <td>0.0</td>\n",
              "      <td>121500.0</td>\n",
              "      <td>513000.0</td>\n",
              "      <td>21865.5</td>\n",
              "      <td>513000.0</td>\n",
              "      <td>6.0</td>\n",
              "      <td>7.0</td>\n",
              "      <td>4.0</td>\n",
              "      <td>3.0</td>\n",
              "      <td>1.0</td>\n",
              "      <td>0.028663</td>\n",
              "      <td>19932.0</td>\n",
              "      <td>3038.0</td>\n",
              "      <td>4311.0</td>\n",
              "      <td>3458.0</td>\n",
              "      <td>1.0</td>\n",
              "      <td>1.0</td>\n",
              "      <td>0.0</td>\n",
              "      <td>1.0</td>\n",
              "      <td>0.0</td>\n",
              "      <td>0.0</td>\n",
              "      <td>3.0</td>\n",
              "      <td>1.0</td>\n",
              "      <td>2.0</td>\n",
              "      <td>2.0</td>\n",
              "      <td>4.0</td>\n",
              "      <td>11.0</td>\n",
              "      <td>0.0</td>\n",
              "      <td>0.0</td>\n",
              "      <td>0.0</td>\n",
              "      <td>0.0</td>\n",
              "      <td>1.0</td>\n",
              "      <td>1.0</td>\n",
              "      <td>37.0</td>\n",
              "      <td>0.322738</td>\n",
              "      <td>0.0</td>\n",
              "      <td>1.0</td>\n",
              "      <td>7.0</td>\n",
              "      <td>2.0</td>\n",
              "      <td>1106.0</td>\n",
              "      <td>0.0</td>\n",
              "      <td>0.0</td>\n",
              "      <td>0.0</td>\n",
              "      <td>0.0</td>\n",
              "      <td>0.0</td>\n",
              "      <td>0.0</td>\n",
              "      <td>1.0</td>\n",
              "      <td>0.0</td>\n",
              "      <td>0.0</td>\n",
              "      <td>0.0</td>\n",
              "      <td>0.0</td>\n",
              "      <td>0.0</td>\n",
              "      <td>0.0</td>\n",
              "      <td>0.0</td>\n",
              "      <td>0.0</td>\n",
              "      <td>0.0</td>\n",
              "      <td>0.0</td>\n",
              "      <td>0.0</td>\n",
              "      <td>0.0</td>\n",
              "      <td>0.0</td>\n",
              "    </tr>\n",
              "  </tbody>\n",
              "</table>\n",
              "</div>"
            ],
            "text/plain": [
              "   SK_ID_CURR    TARGET  ...  FLAG_DOCUMENT_20  FLAG_DOCUMENT_21\n",
              "0    100002.0       1.0  ...               0.0               0.0\n",
              "1    247500.0  247500.0  ...          247500.0          247500.0\n",
              "2    100004.0       0.0  ...               0.0               0.0\n",
              "3    100006.0       0.0  ...               0.0               0.0\n",
              "4    100007.0       0.0  ...               0.0               0.0\n",
              "\n",
              "[5 rows x 66 columns]"
            ]
          },
          "metadata": {
            "tags": []
          },
          "execution_count": 21
        }
      ]
    },
    {
      "cell_type": "code",
      "metadata": {
        "id": "vwVzbw3nPRFC",
        "colab_type": "code",
        "colab": {}
      },
      "source": [
        "# dropping ALL duplicte values \n",
        "dataset.drop_duplicates(keep =False, inplace = True) "
      ],
      "execution_count": 22,
      "outputs": []
    },
    {
      "cell_type": "code",
      "metadata": {
        "id": "zsq7fBp-aR1n",
        "colab_type": "code",
        "colab": {
          "base_uri": "https://localhost:8080/",
          "height": 102
        },
        "outputId": "d0838492-a637-4537-ef21-5d44f4ebc7c5"
      },
      "source": [
        "for col in dataset.columns:\n",
        "  if dataset[col].isnull().sum()> 0 :\n",
        "    print(col)\n",
        "\n",
        "#To Check whether any other NAN values Columns is there or Not"
      ],
      "execution_count": 23,
      "outputs": [
        {
          "output_type": "stream",
          "text": [
            "AMT_ANNUITY\n",
            "AMT_GOODS_PRICE\n",
            "CNT_FAM_MEMBERS\n",
            "EXT_SOURCE_2\n",
            "DAYS_LAST_PHONE_CHANGE\n"
          ],
          "name": "stdout"
        }
      ]
    },
    {
      "cell_type": "code",
      "metadata": {
        "id": "_HCuumWkoHya",
        "colab_type": "code",
        "colab": {
          "base_uri": "https://localhost:8080/",
          "height": 204
        },
        "outputId": "54cbb587-aa07-496f-c4d1-e7e0aef23aa5"
      },
      "source": [
        "dataset[['AMT_ANNUITY','AMT_GOODS_PRICE','CNT_FAM_MEMBERS','EXT_SOURCE_2','DAYS_LAST_PHONE_CHANGE']].head()"
      ],
      "execution_count": 24,
      "outputs": [
        {
          "output_type": "execute_result",
          "data": {
            "text/html": [
              "<div>\n",
              "<style scoped>\n",
              "    .dataframe tbody tr th:only-of-type {\n",
              "        vertical-align: middle;\n",
              "    }\n",
              "\n",
              "    .dataframe tbody tr th {\n",
              "        vertical-align: top;\n",
              "    }\n",
              "\n",
              "    .dataframe thead th {\n",
              "        text-align: right;\n",
              "    }\n",
              "</style>\n",
              "<table border=\"1\" class=\"dataframe\">\n",
              "  <thead>\n",
              "    <tr style=\"text-align: right;\">\n",
              "      <th></th>\n",
              "      <th>AMT_ANNUITY</th>\n",
              "      <th>AMT_GOODS_PRICE</th>\n",
              "      <th>CNT_FAM_MEMBERS</th>\n",
              "      <th>EXT_SOURCE_2</th>\n",
              "      <th>DAYS_LAST_PHONE_CHANGE</th>\n",
              "    </tr>\n",
              "  </thead>\n",
              "  <tbody>\n",
              "    <tr>\n",
              "      <th>0</th>\n",
              "      <td>24700.5</td>\n",
              "      <td>351000.0</td>\n",
              "      <td>1.0</td>\n",
              "      <td>0.262949</td>\n",
              "      <td>1134.0</td>\n",
              "    </tr>\n",
              "    <tr>\n",
              "      <th>2</th>\n",
              "      <td>6750.0</td>\n",
              "      <td>135000.0</td>\n",
              "      <td>1.0</td>\n",
              "      <td>0.555912</td>\n",
              "      <td>815.0</td>\n",
              "    </tr>\n",
              "    <tr>\n",
              "      <th>3</th>\n",
              "      <td>29686.5</td>\n",
              "      <td>297000.0</td>\n",
              "      <td>2.0</td>\n",
              "      <td>0.650442</td>\n",
              "      <td>617.0</td>\n",
              "    </tr>\n",
              "    <tr>\n",
              "      <th>4</th>\n",
              "      <td>21865.5</td>\n",
              "      <td>513000.0</td>\n",
              "      <td>1.0</td>\n",
              "      <td>0.322738</td>\n",
              "      <td>1106.0</td>\n",
              "    </tr>\n",
              "    <tr>\n",
              "      <th>5</th>\n",
              "      <td>27517.5</td>\n",
              "      <td>454500.0</td>\n",
              "      <td>2.0</td>\n",
              "      <td>0.354225</td>\n",
              "      <td>2536.0</td>\n",
              "    </tr>\n",
              "  </tbody>\n",
              "</table>\n",
              "</div>"
            ],
            "text/plain": [
              "   AMT_ANNUITY  AMT_GOODS_PRICE  ...  EXT_SOURCE_2  DAYS_LAST_PHONE_CHANGE\n",
              "0      24700.5         351000.0  ...      0.262949                  1134.0\n",
              "2       6750.0         135000.0  ...      0.555912                   815.0\n",
              "3      29686.5         297000.0  ...      0.650442                   617.0\n",
              "4      21865.5         513000.0  ...      0.322738                  1106.0\n",
              "5      27517.5         454500.0  ...      0.354225                  2536.0\n",
              "\n",
              "[5 rows x 5 columns]"
            ]
          },
          "metadata": {
            "tags": []
          },
          "execution_count": 24
        }
      ]
    },
    {
      "cell_type": "code",
      "metadata": {
        "id": "O7hiOyQozNxd",
        "colab_type": "code",
        "colab": {}
      },
      "source": [
        "dataset['EXT_SOURCE_2'].fillna(dataset['EXT_SOURCE_2'].mean(),inplace=True)\n",
        "dataset['DAYS_LAST_PHONE_CHANGE'].fillna(dataset['DAYS_LAST_PHONE_CHANGE'].mean(),inplace=True)\n",
        "dataset['CNT_FAM_MEMBERS'].fillna(dataset['CNT_FAM_MEMBERS'].mode()[0],inplace=True)\n",
        "dataset['AMT_GOODS_PRICE'].fillna(dataset['AMT_GOODS_PRICE'].median(),inplace=True)\n",
        "dataset['AMT_ANNUITY'].fillna(dataset['AMT_ANNUITY'].mode()[0],inplace=True)"
      ],
      "execution_count": 25,
      "outputs": []
    },
    {
      "cell_type": "code",
      "metadata": {
        "id": "x2amvrFrdQt7",
        "colab_type": "code",
        "colab": {}
      },
      "source": [
        "x=dataset.copy()\n",
        "y=dataset['TARGET']\n",
        "del x['TARGET']\n",
        "del x['SK_ID_CURR']\n",
        "x.columns"
      ],
      "execution_count": null,
      "outputs": []
    },
    {
      "cell_type": "code",
      "metadata": {
        "id": "DUk2g1lebkE8",
        "colab_type": "code",
        "colab": {}
      },
      "source": [
        "from sklearn.model_selection import train_test_split\n",
        "from sklearn.linear_model import LogisticRegression\n",
        "from sklearn.metrics import r2_score\n",
        "from sklearn.metrics import confusion_matrix"
      ],
      "execution_count": 27,
      "outputs": []
    },
    {
      "cell_type": "code",
      "metadata": {
        "id": "lEiTIFeH5lbK",
        "colab_type": "code",
        "colab": {}
      },
      "source": [
        "from sklearn.preprocessing import StandardScaler\n",
        "scaler = StandardScaler()"
      ],
      "execution_count": 28,
      "outputs": []
    },
    {
      "cell_type": "code",
      "metadata": {
        "id": "5iWtfnZ3_ffD",
        "colab_type": "code",
        "colab": {}
      },
      "source": [
        "a= dataset[['AMT_ANNUITY','EXT_SOURCE_2','DAYS_EMPLOYED','AMT_GOODS_PRICE','REGION_POPULATION_RELATIVE','NAME_CONTRACT_TYPE','ORGANIZATION_TYPE','AMT_CREDIT','FONDKAPREMONT_MODE','HOUR_APPR_PROCESS_START','FLAG_PHONE','CNT_CHILDREN','FLAG_WORK_PHONE','LIVE_CITY_NOT_WORK_CITY','NAME_HOUSING_TYPE','WALLSMATERIAL_MODE','HOUSETYPE_MODE','EMERGENCYSTATE_MODE','DAYS_REGISTRATION','FLAG_DOCUMENT_3','CODE_GENDER','NAME_EDUCATION_TYPE','DAYS_LAST_PHONE_CHANGE','REGION_RATING_CLIENT','REGION_RATING_CLIENT_W_CITY', 'DAYS_BIRTH']]"
      ],
      "execution_count": 29,
      "outputs": []
    },
    {
      "cell_type": "code",
      "metadata": {
        "id": "fchqGZBv1vpe",
        "colab_type": "code",
        "colab": {}
      },
      "source": [
        "X_train,X_test,Y_train,Y_test = train_test_split(x,y,test_size=0.2,random_state=10)"
      ],
      "execution_count": 46,
      "outputs": []
    },
    {
      "cell_type": "code",
      "metadata": {
        "id": "ayzEst6T8J9g",
        "colab_type": "code",
        "colab": {}
      },
      "source": [
        "X_train_std  =scaler.fit_transform(X_train)\n",
        "X_test_std  = scaler.fit_transform(X_test)"
      ],
      "execution_count": 47,
      "outputs": []
    },
    {
      "cell_type": "markdown",
      "metadata": {
        "id": "EKrrDcxlSrHr",
        "colab_type": "text"
      },
      "source": [
        "** LOGISTIC REGRESSION Model ** "
      ]
    },
    {
      "cell_type": "code",
      "metadata": {
        "id": "zgJL7K44jmNI",
        "colab_type": "code",
        "colab": {}
      },
      "source": [
        "LR_model = LogisticRegression(solver='liblinear')\n",
        "LR_model.fit(X_train_std,Y_train)\n",
        "LR_y_pred = LR_model.predict(X_test_std)"
      ],
      "execution_count": 48,
      "outputs": []
    },
    {
      "cell_type": "code",
      "metadata": {
        "id": "S8iQ-JH866s2",
        "colab_type": "code",
        "colab": {
          "base_uri": "https://localhost:8080/",
          "height": 34
        },
        "outputId": "496ed067-9737-4dbf-86a6-a985220ddd33"
      },
      "source": [
        "from sklearn.metrics import accuracy_score\n",
        "print(accuracy_score(Y_test,LR_y_pred))"
      ],
      "execution_count": 49,
      "outputs": [
        {
          "output_type": "stream",
          "text": [
            "0.9123057879460474\n"
          ],
          "name": "stdout"
        }
      ]
    },
    {
      "cell_type": "code",
      "metadata": {
        "id": "xnhucTBrSWaB",
        "colab_type": "code",
        "colab": {
          "base_uri": "https://localhost:8080/",
          "height": 51
        },
        "outputId": "826ed16c-cf1a-4895-8738-3ef1fafbd0ec"
      },
      "source": [
        "confusion_matrix(Y_test,LR_y_pred)"
      ],
      "execution_count": 50,
      "outputs": [
        {
          "output_type": "execute_result",
          "data": {
            "text/plain": [
              "array([[42744,     6],\n",
              "       [ 4103,     3]])"
            ]
          },
          "metadata": {
            "tags": []
          },
          "execution_count": 50
        }
      ]
    },
    {
      "cell_type": "code",
      "metadata": {
        "id": "Mw7HInV14Geo",
        "colab_type": "code",
        "colab": {
          "base_uri": "https://localhost:8080/",
          "height": 34
        },
        "outputId": "7efa9e48-ea83-4fcc-8782-5f45d6bf859c"
      },
      "source": [
        "r2_score(Y_test,LR_y_pred)"
      ],
      "execution_count": 51,
      "outputs": [
        {
          "output_type": "execute_result",
          "data": {
            "text/plain": [
              "-0.09684759715492652"
            ]
          },
          "metadata": {
            "tags": []
          },
          "execution_count": 51
        }
      ]
    },
    {
      "cell_type": "code",
      "metadata": {
        "id": "vWIpNTpm1k_6",
        "colab_type": "code",
        "colab": {
          "base_uri": "https://localhost:8080/",
          "height": 34
        },
        "outputId": "e9d2e29e-07e9-49b3-ada6-8927c528a478"
      },
      "source": [
        "LR_model.intercept_"
      ],
      "execution_count": 52,
      "outputs": [
        {
          "output_type": "execute_result",
          "data": {
            "text/plain": [
              "array([-2.59130945])"
            ]
          },
          "metadata": {
            "tags": []
          },
          "execution_count": 52
        }
      ]
    },
    {
      "cell_type": "code",
      "metadata": {
        "id": "vv_HhOMb1ppv",
        "colab_type": "code",
        "colab": {}
      },
      "source": [
        " LR_model.coef_"
      ],
      "execution_count": null,
      "outputs": []
    },
    {
      "cell_type": "markdown",
      "metadata": {
        "id": "iZ5pCsQgS-fE",
        "colab_type": "text"
      },
      "source": [
        "# ***Random Forest Classifier ***"
      ]
    },
    {
      "cell_type": "code",
      "metadata": {
        "id": "KZu9noTLQqYj",
        "colab_type": "code",
        "colab": {
          "base_uri": "https://localhost:8080/",
          "height": 34
        },
        "outputId": "80db26d5-56e3-4369-8ad3-6d1bb1440a73"
      },
      "source": [
        "#RandomForestClassifier\n",
        "RF_model= RandomForestClassifier(n_estimators=1000,warm_start=True,random_state=10)\n",
        "RF_model.fit(X_train,Y_train)\n",
        "RF_y_pred = RF_model.predict(X_test)\n",
        "accuracy_score(Y_test,RF_y_pred)"
      ],
      "execution_count": 38,
      "outputs": [
        {
          "output_type": "execute_result",
          "data": {
            "text/plain": [
              "0.9125192077855557"
            ]
          },
          "metadata": {
            "tags": []
          },
          "execution_count": 38
        }
      ]
    },
    {
      "cell_type": "code",
      "metadata": {
        "id": "9hRw5JCLQ2n6",
        "colab_type": "code",
        "colab": {
          "base_uri": "https://localhost:8080/",
          "height": 142
        },
        "outputId": "11afdfb0-6895-4402-dd37-4b0659218913"
      },
      "source": [
        "pd.crosstab(Y_test,RF_y_pred)"
      ],
      "execution_count": 39,
      "outputs": [
        {
          "output_type": "execute_result",
          "data": {
            "text/html": [
              "<div>\n",
              "<style scoped>\n",
              "    .dataframe tbody tr th:only-of-type {\n",
              "        vertical-align: middle;\n",
              "    }\n",
              "\n",
              "    .dataframe tbody tr th {\n",
              "        vertical-align: top;\n",
              "    }\n",
              "\n",
              "    .dataframe thead th {\n",
              "        text-align: right;\n",
              "    }\n",
              "</style>\n",
              "<table border=\"1\" class=\"dataframe\">\n",
              "  <thead>\n",
              "    <tr style=\"text-align: right;\">\n",
              "      <th>col_0</th>\n",
              "      <th>0.0</th>\n",
              "      <th>1.0</th>\n",
              "    </tr>\n",
              "    <tr>\n",
              "      <th>TARGET</th>\n",
              "      <th></th>\n",
              "      <th></th>\n",
              "    </tr>\n",
              "  </thead>\n",
              "  <tbody>\n",
              "    <tr>\n",
              "      <th>0.0</th>\n",
              "      <td>42746</td>\n",
              "      <td>4</td>\n",
              "    </tr>\n",
              "    <tr>\n",
              "      <th>1.0</th>\n",
              "      <td>4095</td>\n",
              "      <td>11</td>\n",
              "    </tr>\n",
              "  </tbody>\n",
              "</table>\n",
              "</div>"
            ],
            "text/plain": [
              "col_0     0.0  1.0\n",
              "TARGET            \n",
              "0.0     42746    4\n",
              "1.0      4095   11"
            ]
          },
          "metadata": {
            "tags": []
          },
          "execution_count": 39
        }
      ]
    },
    {
      "cell_type": "code",
      "metadata": {
        "colab_type": "code",
        "id": "xsjEh8fKUNfT",
        "colab": {
          "base_uri": "https://localhost:8080/",
          "height": 34
        },
        "outputId": "06dfddc7-9040-46d9-8170-cd5f0ba353cd"
      },
      "source": [
        "r2_score(Y_test,RF_y_pred)"
      ],
      "execution_count": 40,
      "outputs": [
        {
          "output_type": "execute_result",
          "data": {
            "text/plain": [
              "-0.09417821872427456"
            ]
          },
          "metadata": {
            "tags": []
          },
          "execution_count": 40
        }
      ]
    },
    {
      "cell_type": "code",
      "metadata": {
        "id": "XObRqseMUTho",
        "colab_type": "code",
        "colab": {}
      },
      "source": [
        "from xgboost import XGBClassifier"
      ],
      "execution_count": 41,
      "outputs": []
    },
    {
      "cell_type": "code",
      "metadata": {
        "id": "lBEt6FruImHy",
        "colab_type": "code",
        "colab": {
          "base_uri": "https://localhost:8080/",
          "height": 34
        },
        "outputId": "c0e225ad-a4bf-4f97-afaa-0abdc2d57f1b"
      },
      "source": [
        "#XGBClassifier\n",
        "XGB_model= XGBClassifier()\n",
        "XGB_model.fit(X_train,Y_train)\n",
        "XGB_y_pred = XGB_model.predict(X_test)\n",
        "accuracy_score(Y_test,XGB_y_pred)"
      ],
      "execution_count": 44,
      "outputs": [
        {
          "output_type": "execute_result",
          "data": {
            "text/plain": [
              "0.9123911558818508"
            ]
          },
          "metadata": {
            "tags": []
          },
          "execution_count": 44
        }
      ]
    },
    {
      "cell_type": "code",
      "metadata": {
        "id": "_7gIuJc5OUY3",
        "colab_type": "code",
        "colab": {
          "base_uri": "https://localhost:8080/",
          "height": 142
        },
        "outputId": "126f0718-6769-41cf-8ea3-c879e1c3a006"
      },
      "source": [
        "pd.crosstab(Y_test,XGB_y_pred)"
      ],
      "execution_count": 45,
      "outputs": [
        {
          "output_type": "execute_result",
          "data": {
            "text/html": [
              "<div>\n",
              "<style scoped>\n",
              "    .dataframe tbody tr th:only-of-type {\n",
              "        vertical-align: middle;\n",
              "    }\n",
              "\n",
              "    .dataframe tbody tr th {\n",
              "        vertical-align: top;\n",
              "    }\n",
              "\n",
              "    .dataframe thead th {\n",
              "        text-align: right;\n",
              "    }\n",
              "</style>\n",
              "<table border=\"1\" class=\"dataframe\">\n",
              "  <thead>\n",
              "    <tr style=\"text-align: right;\">\n",
              "      <th>col_0</th>\n",
              "      <th>0.0</th>\n",
              "      <th>1.0</th>\n",
              "    </tr>\n",
              "    <tr>\n",
              "      <th>TARGET</th>\n",
              "      <th></th>\n",
              "      <th></th>\n",
              "    </tr>\n",
              "  </thead>\n",
              "  <tbody>\n",
              "    <tr>\n",
              "      <th>0.0</th>\n",
              "      <td>42748</td>\n",
              "      <td>2</td>\n",
              "    </tr>\n",
              "    <tr>\n",
              "      <th>1.0</th>\n",
              "      <td>4103</td>\n",
              "      <td>3</td>\n",
              "    </tr>\n",
              "  </tbody>\n",
              "</table>\n",
              "</div>"
            ],
            "text/plain": [
              "col_0     0.0  1.0\n",
              "TARGET            \n",
              "0.0     42748    2\n",
              "1.0      4103    3"
            ]
          },
          "metadata": {
            "tags": []
          },
          "execution_count": 45
        }
      ]
    },
    {
      "cell_type": "code",
      "metadata": {
        "id": "XkORBIXKOqbw",
        "colab_type": "code",
        "colab": {}
      },
      "source": [
        ""
      ],
      "execution_count": null,
      "outputs": []
    }
  ]
}