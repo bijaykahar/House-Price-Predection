{
  "nbformat": 4,
  "nbformat_minor": 0,
  "metadata": {
    "colab": {
      "name": "merging Data Sets as per photo2.ipynb",
      "provenance": [],
      "authorship_tag": "ABX9TyNgswaWKgDnWl4AJJY0qJbc",
      "include_colab_link": true
    },
    "kernelspec": {
      "name": "python3",
      "display_name": "Python 3"
    }
  },
  "cells": [
    {
      "cell_type": "markdown",
      "metadata": {
        "id": "view-in-github",
        "colab_type": "text"
      },
      "source": [
        "<a href=\"https://colab.research.google.com/github/bijaykahar/House-Price-Predection/blob/master/merging_Data_Sets_as_per_photo2.ipynb\" target=\"_parent\"><img src=\"https://colab.research.google.com/assets/colab-badge.svg\" alt=\"Open In Colab\"/></a>"
      ]
    },
    {
      "cell_type": "code",
      "metadata": {
        "id": "vMcB8RMAF8II",
        "colab_type": "code",
        "colab": {
          "base_uri": "https://localhost:8080/",
          "height": 122
        },
        "outputId": "097fb1e4-15ef-413f-8e45-b478ddb23871"
      },
      "source": [
        "from google.colab import drive\n",
        "drive.mount('/content/drive')"
      ],
      "execution_count": 2,
      "outputs": [
        {
          "output_type": "stream",
          "text": [
            "Go to this URL in a browser: https://accounts.google.com/o/oauth2/auth?client_id=947318989803-6bn6qk8qdgf4n4g3pfee6491hc0brc4i.apps.googleusercontent.com&redirect_uri=urn%3aietf%3awg%3aoauth%3a2.0%3aoob&scope=email%20https%3a%2f%2fwww.googleapis.com%2fauth%2fdocs.test%20https%3a%2f%2fwww.googleapis.com%2fauth%2fdrive%20https%3a%2f%2fwww.googleapis.com%2fauth%2fdrive.photos.readonly%20https%3a%2f%2fwww.googleapis.com%2fauth%2fpeopleapi.readonly&response_type=code\n",
            "\n",
            "Enter your authorization code:\n",
            "··········\n",
            "Mounted at /content/drive\n"
          ],
          "name": "stdout"
        }
      ]
    },
    {
      "cell_type": "code",
      "metadata": {
        "id": "5B7IMr8YGH4s",
        "colab_type": "code",
        "colab": {
          "base_uri": "https://localhost:8080/",
          "height": 71
        },
        "outputId": "98b22218-7fa8-45f4-b769-d84d0c8ce60e"
      },
      "source": [
        "import pandas as pd \n",
        "import numpy as np\n",
        "import seaborn as sns\n",
        "import matplotlib.pyplot as plt"
      ],
      "execution_count": 3,
      "outputs": [
        {
          "output_type": "stream",
          "text": [
            "/usr/local/lib/python3.6/dist-packages/statsmodels/tools/_testing.py:19: FutureWarning: pandas.util.testing is deprecated. Use the functions in the public API at pandas.testing instead.\n",
            "  import pandas.util.testing as tm\n"
          ],
          "name": "stderr"
        }
      ]
    },
    {
      "cell_type": "code",
      "metadata": {
        "id": "FmRjEI2eGfcD",
        "colab_type": "code",
        "colab": {}
      },
      "source": [
        "bru = pd.read_csv('/content/drive/My Drive/Internship_DataMites/Resampled Data /bureau100000.csv')\n",
        "del bru['Unnamed: 0']\n",
        "bru.columns\n"
      ],
      "execution_count": null,
      "outputs": []
    },
    {
      "cell_type": "code",
      "metadata": {
        "id": "g6LTxQVsGgXh",
        "colab_type": "code",
        "colab": {}
      },
      "source": [
        "App_train = pd.read_csv('/content/drive/My Drive/Internship_DataMites/Resampled Data /TrainingData.csv')\n",
        "del App_train['Unnamed: 0']\n",
        "App_train.columns"
      ],
      "execution_count": null,
      "outputs": []
    },
    {
      "cell_type": "code",
      "metadata": {
        "id": "-OT_22IcGkPP",
        "colab_type": "code",
        "colab": {}
      },
      "source": [
        "prev_bal = pd.read_csv('/content/drive/My Drive/Internship_DataMites/Resampled Data /prev_bal100000.csv')\n",
        "del prev_bal['Unnamed: 0']\n",
        "prev_bal.columns"
      ],
      "execution_count": null,
      "outputs": []
    },
    {
      "cell_type": "code",
      "metadata": {
        "id": "r-ZppPVyGneV",
        "colab_type": "code",
        "colab": {
          "base_uri": "https://localhost:8080/",
          "height": 204
        },
        "outputId": "4f18ddf7-0842-426b-a713-c82f16537471"
      },
      "source": [
        "bru_bal = pd.read_csv('/content/drive/My Drive/Internship_DataMites/Resampled Data /bru_bal100000.csv')\n",
        "del bru_bal['Unnamed: 0']\n",
        "bru_bal.head()"
      ],
      "execution_count": 18,
      "outputs": [
        {
          "output_type": "execute_result",
          "data": {
            "text/html": [
              "<div>\n",
              "<style scoped>\n",
              "    .dataframe tbody tr th:only-of-type {\n",
              "        vertical-align: middle;\n",
              "    }\n",
              "\n",
              "    .dataframe tbody tr th {\n",
              "        vertical-align: top;\n",
              "    }\n",
              "\n",
              "    .dataframe thead th {\n",
              "        text-align: right;\n",
              "    }\n",
              "</style>\n",
              "<table border=\"1\" class=\"dataframe\">\n",
              "  <thead>\n",
              "    <tr style=\"text-align: right;\">\n",
              "      <th></th>\n",
              "      <th>SK_ID_BUREAU</th>\n",
              "      <th>MONTHS_BALANCE</th>\n",
              "      <th>STATUS</th>\n",
              "    </tr>\n",
              "  </thead>\n",
              "  <tbody>\n",
              "    <tr>\n",
              "      <th>0</th>\n",
              "      <td>5715448</td>\n",
              "      <td>0</td>\n",
              "      <td>C</td>\n",
              "    </tr>\n",
              "    <tr>\n",
              "      <th>1</th>\n",
              "      <td>5715448</td>\n",
              "      <td>-1</td>\n",
              "      <td>C</td>\n",
              "    </tr>\n",
              "    <tr>\n",
              "      <th>2</th>\n",
              "      <td>5715448</td>\n",
              "      <td>-2</td>\n",
              "      <td>C</td>\n",
              "    </tr>\n",
              "    <tr>\n",
              "      <th>3</th>\n",
              "      <td>5715448</td>\n",
              "      <td>-3</td>\n",
              "      <td>C</td>\n",
              "    </tr>\n",
              "    <tr>\n",
              "      <th>4</th>\n",
              "      <td>5715448</td>\n",
              "      <td>-4</td>\n",
              "      <td>C</td>\n",
              "    </tr>\n",
              "  </tbody>\n",
              "</table>\n",
              "</div>"
            ],
            "text/plain": [
              "   SK_ID_BUREAU  MONTHS_BALANCE STATUS\n",
              "0       5715448               0      C\n",
              "1       5715448              -1      C\n",
              "2       5715448              -2      C\n",
              "3       5715448              -3      C\n",
              "4       5715448              -4      C"
            ]
          },
          "metadata": {
            "tags": []
          },
          "execution_count": 18
        }
      ]
    },
    {
      "cell_type": "code",
      "metadata": {
        "id": "Jkk7pj54Grk1",
        "colab_type": "code",
        "colab": {}
      },
      "source": [
        "POS_CASH = pd.read_csv('/content/drive/My Drive/Internship_DataMites/Resampled Data /POS_CASH_bal100000.csv')\n",
        "del POS_CASH['Unnamed: 0']\n",
        "POS_CASH.head()"
      ],
      "execution_count": null,
      "outputs": []
    },
    {
      "cell_type": "code",
      "metadata": {
        "id": "rIvg4np7GvD1",
        "colab_type": "code",
        "colab": {
          "base_uri": "https://localhost:8080/",
          "height": 204
        },
        "outputId": "b5fee07c-9603-4eca-94b2-6a15a74fea71"
      },
      "source": [
        "cre_card = pd.read_csv('/content/drive/My Drive/Internship_DataMites/Resampled Data /cre_card_bal100000.csv')\n",
        "del cre_card['Unnamed: 0']\n",
        "cre_card.head()"
      ],
      "execution_count": 15,
      "outputs": [
        {
          "output_type": "execute_result",
          "data": {
            "text/html": [
              "<div>\n",
              "<style scoped>\n",
              "    .dataframe tbody tr th:only-of-type {\n",
              "        vertical-align: middle;\n",
              "    }\n",
              "\n",
              "    .dataframe tbody tr th {\n",
              "        vertical-align: top;\n",
              "    }\n",
              "\n",
              "    .dataframe thead th {\n",
              "        text-align: right;\n",
              "    }\n",
              "</style>\n",
              "<table border=\"1\" class=\"dataframe\">\n",
              "  <thead>\n",
              "    <tr style=\"text-align: right;\">\n",
              "      <th></th>\n",
              "      <th>SK_ID_BUREAU</th>\n",
              "      <th>MONTHS_BALANCE</th>\n",
              "      <th>STATUS</th>\n",
              "    </tr>\n",
              "  </thead>\n",
              "  <tbody>\n",
              "    <tr>\n",
              "      <th>0</th>\n",
              "      <td>5715448</td>\n",
              "      <td>0</td>\n",
              "      <td>C</td>\n",
              "    </tr>\n",
              "    <tr>\n",
              "      <th>1</th>\n",
              "      <td>5715448</td>\n",
              "      <td>-1</td>\n",
              "      <td>C</td>\n",
              "    </tr>\n",
              "    <tr>\n",
              "      <th>2</th>\n",
              "      <td>5715448</td>\n",
              "      <td>-2</td>\n",
              "      <td>C</td>\n",
              "    </tr>\n",
              "    <tr>\n",
              "      <th>3</th>\n",
              "      <td>5715448</td>\n",
              "      <td>-3</td>\n",
              "      <td>C</td>\n",
              "    </tr>\n",
              "    <tr>\n",
              "      <th>4</th>\n",
              "      <td>5715448</td>\n",
              "      <td>-4</td>\n",
              "      <td>C</td>\n",
              "    </tr>\n",
              "  </tbody>\n",
              "</table>\n",
              "</div>"
            ],
            "text/plain": [
              "   SK_ID_BUREAU  MONTHS_BALANCE STATUS\n",
              "0       5715448               0      C\n",
              "1       5715448              -1      C\n",
              "2       5715448              -2      C\n",
              "3       5715448              -3      C\n",
              "4       5715448              -4      C"
            ]
          },
          "metadata": {
            "tags": []
          },
          "execution_count": 15
        }
      ]
    },
    {
      "cell_type": "code",
      "metadata": {
        "id": "i3a0oMYpGzRH",
        "colab_type": "code",
        "colab": {}
      },
      "source": [
        "inst_pay = pd.read_csv('/content/drive/My Drive/Internship_DataMites/Resampled Data /inst_paymnt100000.csv')\n",
        "del inst_pay['Unnamed: 0']\n",
        "inst_pay.head()"
      ],
      "execution_count": null,
      "outputs": []
    },
    {
      "cell_type": "code",
      "metadata": {
        "id": "PUqKwwtVG3v3",
        "colab_type": "code",
        "colab": {}
      },
      "source": [
        "merge1 = App_train.merge(prev_bal, left_on='SK_ID_CURR', right_on='SK_ID_CURR')\n",
        "merge1.columns"
      ],
      "execution_count": null,
      "outputs": []
    },
    {
      "cell_type": "code",
      "metadata": {
        "id": "AP-u5dPhHx2k",
        "colab_type": "code",
        "colab": {}
      },
      "source": [
        "merge2 = merge1.merge(bru, left_on='SK_ID_CURR', right_on='SK_ID_CURR')\n",
        "merge2.columns"
      ],
      "execution_count": null,
      "outputs": []
    },
    {
      "cell_type": "code",
      "metadata": {
        "id": "hZdUESWOIAa6",
        "colab_type": "code",
        "colab": {}
      },
      "source": [
        "merge3 = merge2.merge(POS_CASH, left_on='SK_ID_CURR', right_on='SK_ID_CURR')\n",
        "merge3.columns"
      ],
      "execution_count": null,
      "outputs": []
    },
    {
      "cell_type": "code",
      "metadata": {
        "id": "2X5IOxCeIP4g",
        "colab_type": "code",
        "colab": {}
      },
      "source": [
        "merge4 = merge3.merge(cre_card, left_on='SK_ID_BUREAU', right_on='SK_ID_BUREAU')\n",
        "merge4.columns"
      ],
      "execution_count": null,
      "outputs": []
    },
    {
      "cell_type": "code",
      "metadata": {
        "id": "qxfANmdDIhre",
        "colab_type": "code",
        "colab": {}
      },
      "source": [
        "merge5 = merge4.merge(inst_pay, left_on='SK_ID_CURR', right_on='SK_ID_CURR')\n",
        "merge5.columns"
      ],
      "execution_count": null,
      "outputs": []
    },
    {
      "cell_type": "code",
      "metadata": {
        "id": "peE6-ajLJEmN",
        "colab_type": "code",
        "colab": {
          "base_uri": "https://localhost:8080/",
          "height": 153
        },
        "outputId": "23454f92-415e-418d-ca89-71dfb836e3f0"
      },
      "source": [
        "merge6 = merge5.merge(bru_bal, left_on='SK_ID_BUREAU', right_on='SK_ID_BUREAU')\n",
        "merge6.columns"
      ],
      "execution_count": 19,
      "outputs": [
        {
          "output_type": "execute_result",
          "data": {
            "text/plain": [
              "Index(['SK_ID_CURR', 'TARGET', 'NAME_CONTRACT_TYPE_x', 'CODE_GENDER',\n",
              "       'FLAG_OWN_CAR', 'FLAG_OWN_REALTY', 'CNT_CHILDREN', 'AMT_INCOME_TOTAL',\n",
              "       'AMT_CREDIT_x', 'AMT_ANNUITY_x',\n",
              "       ...\n",
              "       'STATUS_x', 'SK_ID_PREV', 'NUM_INSTALMENT_VERSION',\n",
              "       'NUM_INSTALMENT_NUMBER', 'DAYS_INSTALMENT', 'DAYS_ENTRY_PAYMENT',\n",
              "       'AMT_INSTALMENT', 'AMT_PAYMENT', 'MONTHS_BALANCE', 'STATUS_y'],\n",
              "      dtype='object', length=192)"
            ]
          },
          "metadata": {
            "tags": []
          },
          "execution_count": 19
        }
      ]
    },
    {
      "cell_type": "code",
      "metadata": {
        "id": "T63pgOhkJVsw",
        "colab_type": "code",
        "colab": {
          "base_uri": "https://localhost:8080/",
          "height": 34
        },
        "outputId": "dd2388ce-6060-4ca4-9d8a-d967f9f5bf5a"
      },
      "source": [
        "merge6['TARGET'].unique()"
      ],
      "execution_count": 20,
      "outputs": [
        {
          "output_type": "execute_result",
          "data": {
            "text/plain": [
              "array([0])"
            ]
          },
          "metadata": {
            "tags": []
          },
          "execution_count": 20
        }
      ]
    },
    {
      "cell_type": "code",
      "metadata": {
        "id": "hSyBmn4hJakR",
        "colab_type": "code",
        "colab": {}
      },
      "source": [
        ""
      ],
      "execution_count": null,
      "outputs": []
    }
  ]
}